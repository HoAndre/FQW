{
 "cells": [
  {
   "cell_type": "code",
   "execution_count": 1,
   "id": "a1943810",
   "metadata": {},
   "outputs": [],
   "source": [
    "from flask import Flask, request, render_template\n",
    "import tensorflow as tf"
   ]
  },
  {
   "cell_type": "code",
   "execution_count": 2,
   "id": "073b74ac",
   "metadata": {},
   "outputs": [],
   "source": [
    "app=Flask(__name__)\n",
    "def get_prediction(params):\n",
    "    model=tf.keras.models.load_model('DNN_model')\n",
    "    y_pred=model.predict(params)\n",
    "    return f'Спрогнозированное cоотношение матрица-наполнитель для введенных параметров: {y_pred}'\n",
    "@app.route('/', methods=['post', 'get'])\n",
    "def processing():\n",
    "    message = ''\n",
    "    if request.method == 'POST':\n",
    "        plot = request.form.get('plot')\n",
    "        mup = request.form.get('mup')\n",
    "        ko = request.form.get('ko')\n",
    "        seg = request.form.get('seg')\n",
    "        tv = request.form.get('tv')\n",
    "        pp = request.form.get('pp')\n",
    "        mupr = request.form.get('mupr')\n",
    "        pr = request.form.get('pr')\n",
    "        ps = request.form.get('ps')\n",
    "        un = request.form.get('un')\n",
    "        shn = request.form.get('shn')\n",
    "        pln = request.form.get('pln')\n",
    "        params = [plot, mup, ko, seg, tv, pp, mupr, pr, ps, un, shn, pln]\n",
    "        params = [float(i) for i in params]\n",
    "        message = get_prediction(params)\n",
    "    return render_template('matrix.html', message=message)"
   ]
  },
  {
   "cell_type": "code",
   "execution_count": 3,
   "id": "e979c179",
   "metadata": {},
   "outputs": [
    {
     "name": "stdout",
     "output_type": "stream",
     "text": [
      " * Serving Flask app \"__main__\" (lazy loading)\n",
      " * Environment: production\n",
      "\u001b[31m   WARNING: This is a development server. Do not use it in a production deployment.\u001b[0m\n",
      "\u001b[2m   Use a production WSGI server instead.\u001b[0m\n",
      " * Debug mode: off\n"
     ]
    },
    {
     "name": "stderr",
     "output_type": "stream",
     "text": [
      " * Running on http://127.0.0.1:5000/ (Press CTRL+C to quit)\n"
     ]
    }
   ],
   "source": [
    "if __name__ == \"__main__\":\n",
    "    app.run()"
   ]
  },
  {
   "cell_type": "code",
   "execution_count": null,
   "id": "54d70643",
   "metadata": {},
   "outputs": [],
   "source": []
  }
 ],
 "metadata": {
  "kernelspec": {
   "display_name": "Python 3 (ipykernel)",
   "language": "python",
   "name": "python3"
  },
  "language_info": {
   "codemirror_mode": {
    "name": "ipython",
    "version": 3
   },
   "file_extension": ".py",
   "mimetype": "text/x-python",
   "name": "python",
   "nbconvert_exporter": "python",
   "pygments_lexer": "ipython3",
   "version": "3.9.7"
  }
 },
 "nbformat": 4,
 "nbformat_minor": 5
}
